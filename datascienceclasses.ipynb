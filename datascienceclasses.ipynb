{
  "nbformat": 4,
  "nbformat_minor": 0,
  "metadata": {
    "colab": {
      "provenance": [],
      "authorship_tag": "ABX9TyMgZs+CqC93fQK6b5DvsXc1",
      "include_colab_link": true
    },
    "kernelspec": {
      "name": "python3",
      "display_name": "Python 3"
    },
    "language_info": {
      "name": "python"
    }
  },
  "cells": [
    {
      "cell_type": "markdown",
      "metadata": {
        "id": "view-in-github",
        "colab_type": "text"
      },
      "source": [
        "<a href=\"https://colab.research.google.com/github/Shubham81155/data-science3sem/blob/main/datascienceclasses.ipynb\" target=\"_parent\"><img src=\"https://colab.research.google.com/assets/colab-badge.svg\" alt=\"Open In Colab\"/></a>"
      ]
    },
    {
      "cell_type": "code",
      "execution_count": null,
      "metadata": {
        "colab": {
          "base_uri": "https://localhost:8080/"
        },
        "id": "NX-Qgw3IMkhI",
        "outputId": "358b2d98-5754-4a70-8e1e-91df0a103a7b"
      },
      "outputs": [
        {
          "output_type": "stream",
          "name": "stdout",
          "text": [
            "HELLO WORLD\n"
          ]
        }
      ],
      "source": [
        "print(\"HELLO WORLD\")"
      ]
    },
    {
      "cell_type": "code",
      "source": [
        "a=int(input())\n",
        "b=int(input())\n",
        "print(\"The product of a*b is\",a*b)"
      ],
      "metadata": {
        "id": "omhxm7c9NIa2",
        "colab": {
          "base_uri": "https://localhost:8080/"
        },
        "outputId": "6c245f59-66df-4bce-d8ad-e466742e6e93"
      },
      "execution_count": null,
      "outputs": [
        {
          "output_type": "stream",
          "name": "stdout",
          "text": [
            "3\n",
            "3\n",
            "The product of a*b is 9\n"
          ]
        }
      ]
    },
    {
      "cell_type": "code",
      "source": [
        "a=int(input(\"enter The numbeer\"))\n",
        "if(a<0):\n",
        "  a=-a\n",
        "print(\"The abs value of a given number is\",a)\n"
      ],
      "metadata": {
        "id": "iKkaO75BQeit",
        "colab": {
          "base_uri": "https://localhost:8080/"
        },
        "outputId": "56d17191-c5eb-4b74-da55-fe73ff3295b5"
      },
      "execution_count": null,
      "outputs": [
        {
          "output_type": "stream",
          "name": "stdout",
          "text": [
            "enter the numbeer-9\n",
            "the abs value of a given number is 9\n"
          ]
        }
      ]
    },
    {
      "cell_type": "code",
      "source": [
        "a=int(input(\"Enter The number\"))\n",
        "if a%2==0:\n",
        "  print(\"The number is even\")\n",
        "if a%2!=0:\n",
        "  print(\"The number is odd\")"
      ],
      "metadata": {
        "colab": {
          "base_uri": "https://localhost:8080/"
        },
        "id": "y6olCH0KSf4D",
        "outputId": "68ea0b6a-86fe-40f4-f39e-06160af69c95"
      },
      "execution_count": null,
      "outputs": [
        {
          "output_type": "stream",
          "name": "stdout",
          "text": [
            "Enter the number3\n",
            "the number is odd\n"
          ]
        }
      ]
    },
    {
      "cell_type": "markdown",
      "source": [
        "#smallest number"
      ],
      "metadata": {
        "id": "3gv1oLvAUXuJ"
      }
    },
    {
      "cell_type": "code",
      "source": [
        "p=int(input())\n",
        "q=int(input())\n",
        "if(p<q):\n",
        "  print(p,\"is smallest number\")\n",
        "else:\n",
        "  print(q,\"is smallest number\")"
      ],
      "metadata": {
        "colab": {
          "base_uri": "https://localhost:8080/"
        },
        "id": "OiBNZK1vUfBC",
        "outputId": "072397df-615c-4222-8634-6b1d832bb8f9"
      },
      "execution_count": null,
      "outputs": [
        {
          "output_type": "stream",
          "name": "stdout",
          "text": [
            "4\n",
            "5\n",
            "4 is smallest number\n"
          ]
        }
      ]
    },
    {
      "cell_type": "markdown",
      "source": [
        "**wap to accept three subject marks and find The studentis pass or fail?**"
      ],
      "metadata": {
        "id": "cWhTZh3LVmXJ"
      }
    },
    {
      "cell_type": "code",
      "source": [
        "s1=int(input(\"Enter The first subject\"))\n",
        "s2=int(input(\"Enter The Second subject\"))\n",
        "s3=int(input(\"Enter The Third subject\"))\n",
        "if s1>=35 and s2>=35 and s3>=35:\n",
        "  print(\"The student is pass \")\n",
        "else:\n",
        "  print(\"The student is fail\")"
      ],
      "metadata": {
        "colab": {
          "base_uri": "https://localhost:8080/"
        },
        "id": "Z27nlhhJVwrW",
        "outputId": "1c4ca802-0475-4715-836e-0efb325b7479"
      },
      "execution_count": null,
      "outputs": [
        {
          "output_type": "stream",
          "name": "stdout",
          "text": [
            "Enter the first subject45\n",
            "Enter the Second subject56\n",
            "Enter the Third subject67\n",
            "The student is pass \n"
          ]
        }
      ]
    },
    {
      "cell_type": "markdown",
      "source": [
        "**wap to find The biggest numbeer among The given  two numbers?**\n"
      ],
      "metadata": {
        "id": "DUHUa0AfXhZw"
      }
    },
    {
      "cell_type": "code",
      "source": [
        "a=int(input(\"Enter The first \"))\n",
        "b=int(input(\"Enter The Second \"))\n",
        "c=int(input(\"Enter The Third \"))\n",
        "if a>b:\n",
        "  if a>c:\n",
        "    print(a,\"is greater\")\n",
        "  else:\n",
        "    print(c,\"is greater\")\n",
        "else:\n",
        "  if b>c:\n",
        "    print(b,\"is greater\")\n",
        "  else:\n",
        "    print(c,\"is greater\")"
      ],
      "metadata": {
        "colab": {
          "base_uri": "https://localhost:8080/"
        },
        "id": "4DCsiPf9Y0tP",
        "outputId": "55edb250-14ae-457e-a5fe-28a655acf526"
      },
      "execution_count": null,
      "outputs": [
        {
          "output_type": "stream",
          "name": "stdout",
          "text": [
            "Enter the first 4\n",
            "Enter the Second 4\n",
            "Enter the Third 4\n",
            "4 is greater\n"
          ]
        }
      ]
    },
    {
      "cell_type": "markdown",
      "source": [
        "**wap to find The given number is in The range of 1 to 10 or 11 to 20 or 21 to 30 or 31 to 40 or greater than 40.**\n"
      ],
      "metadata": {
        "id": "01T5NGhOgZXk"
      }
    },
    {
      "cell_type": "code",
      "source": [
        "n=int(input(\"Enter number\"))\n",
        "if n>=1 and n<=10:\n",
        "  print(\"The given number is in The range of 1 to 10\")\n",
        "elif n>=11 and n<=20:\n",
        "  print(\"The given number is in The range of 11 to 20\")\n",
        "elif n>=21 and n<=30:\n",
        "  print(\"The given number is in The range of 21 to 30\")\n",
        "elif n>=31 and n<=40:\n",
        "  print(\"The given number is in The range of 31 to 40\")\n",
        "else:\n",
        "  print(\"The given  number is greater than 40\")"
      ],
      "metadata": {
        "colab": {
          "base_uri": "https://localhost:8080/"
        },
        "id": "MoteoHKNh2Qa",
        "outputId": "5f0b860e-8d98-4206-cf43-544a28776f5f"
      },
      "execution_count": null,
      "outputs": [
        {
          "output_type": "stream",
          "name": "stdout",
          "text": [
            "Enter number34\n",
            "The given number is in The range of 31 to 40\n"
          ]
        }
      ]
    },
    {
      "cell_type": "markdown",
      "source": [
        "**wap to find the given person is eligible for vote or not?**\n"
      ],
      "metadata": {
        "id": "qSxHmk1nkidK"
      }
    },
    {
      "cell_type": "code",
      "source": [
        "age=int(input(\"Enter the age:\"))\n",
        "if age>=18:\n",
        "  print(\"The pertson is eligible for vote\")\n",
        "else:\n",
        "   print(\"The pertson is not eligible for vote\")"
      ],
      "metadata": {
        "colab": {
          "base_uri": "https://localhost:8080/"
        },
        "id": "X-bUClC_kvbo",
        "outputId": "62d55346-5fd0-486f-cda8-60910e63b640"
      },
      "execution_count": null,
      "outputs": [
        {
          "output_type": "stream",
          "name": "stdout",
          "text": [
            "Enter the age:12\n",
            "The pertson is not eligible for vote\n"
          ]
        }
      ]
    },
    {
      "cell_type": "markdown",
      "source": [
        "**wap to accept two inputs  one is person name and second is gender.\n",
        "If the gender is male print welcome to mr. name or female print welcome to ms name**"
      ],
      "metadata": {
        "id": "vmoYPmZelx-4"
      }
    },
    {
      "cell_type": "code",
      "source": [
        "name=input(\"Enter the name \")\n",
        "gender=input(\"Enter the gender \")\n",
        "if gender==\"male\":\n",
        "  print(\"Welcome mr.\",name)\n",
        "else:\n",
        "  print(\"Welcome ms.\",name)"
      ],
      "metadata": {
        "colab": {
          "base_uri": "https://localhost:8080/"
        },
        "id": "ihVpzvNWmWv4",
        "outputId": "0debe208-dd95-4d86-991e-4a9cbb722075"
      },
      "execution_count": null,
      "outputs": [
        {
          "output_type": "stream",
          "name": "stdout",
          "text": [
            "Enter the name shubham\n",
            "Enter the gender male\n",
            "Welcome mr. shubham\n"
          ]
        }
      ]
    },
    {
      "cell_type": "markdown",
      "source": [
        "**WHILE Loop**"
      ],
      "metadata": {
        "id": "V0H9vd0sRdk7"
      }
    },
    {
      "cell_type": "code",
      "source": [
        "i=0\n",
        "while (i<11):\n",
        "  print(\"HELLO WORLD\")\n",
        "  i+=1\n"
      ],
      "metadata": {
        "colab": {
          "base_uri": "https://localhost:8080/"
        },
        "id": "hgfksobKSOrr",
        "outputId": "fdc7dd60-183f-44ca-c27a-73da76eccc69"
      },
      "execution_count": null,
      "outputs": [
        {
          "output_type": "stream",
          "name": "stdout",
          "text": [
            "HELLO WORLD\n",
            "HELLO WORLD\n",
            "HELLO WORLD\n",
            "HELLO WORLD\n",
            "HELLO WORLD\n",
            "HELLO WORLD\n",
            "HELLO WORLD\n",
            "HELLO WORLD\n",
            "HELLO WORLD\n",
            "HELLO WORLD\n",
            "HELLO WORLD\n"
          ]
        }
      ]
    },
    {
      "cell_type": "markdown",
      "source": [
        "**FOR Loop**"
      ],
      "metadata": {
        "id": "uW13FhXnS0Px"
      }
    },
    {
      "cell_type": "code",
      "source": [
        "for i in range(0,11,1):\n",
        "  print(\"HELLO WORLD\")"
      ],
      "metadata": {
        "colab": {
          "base_uri": "https://localhost:8080/"
        },
        "id": "PrRjUWIXTBWY",
        "outputId": "cab0f13c-a1e8-428e-ee6b-127a28764a3f"
      },
      "execution_count": null,
      "outputs": [
        {
          "output_type": "stream",
          "name": "stdout",
          "text": [
            "HELLO WORLD\n",
            "HELLO WORLD\n",
            "HELLO WORLD\n",
            "HELLO WORLD\n",
            "HELLO WORLD\n",
            "HELLO WORLD\n",
            "HELLO WORLD\n",
            "HELLO WORLD\n",
            "HELLO WORLD\n",
            "HELLO WORLD\n",
            "HELLO WORLD\n"
          ]
        }
      ]
    },
    {
      "cell_type": "code",
      "source": [
        "#SEQUENCE OF CHARACTER\n",
        "for i in \"python\":\n",
        " print(i)"
      ],
      "metadata": {
        "colab": {
          "base_uri": "https://localhost:8080/"
        },
        "id": "IWyRuJnJULay",
        "outputId": "28d74923-930c-4859-ac9e-292398cb0c2e"
      },
      "execution_count": null,
      "outputs": [
        {
          "output_type": "stream",
          "name": "stdout",
          "text": [
            "p\n",
            "y\n",
            "t\n",
            "h\n",
            "o\n",
            "n\n"
          ]
        }
      ]
    },
    {
      "cell_type": "markdown",
      "source": [
        "**Function**"
      ],
      "metadata": {
        "id": "ZJmpYEWGUwua"
      }
    },
    {
      "cell_type": "code",
      "source": [
        "#function without arguments\n",
        "def greet():\n",
        "  print(\"HELLO WORLD\")\n",
        "greet()"
      ],
      "metadata": {
        "colab": {
          "base_uri": "https://localhost:8080/"
        },
        "id": "xh4RBddOU1rf",
        "outputId": "03b0c883-4a11-413b-f87e-c6c735509f75"
      },
      "execution_count": null,
      "outputs": [
        {
          "output_type": "stream",
          "name": "stdout",
          "text": [
            "HELLO WORLD\n"
          ]
        }
      ]
    },
    {
      "cell_type": "code",
      "source": [
        "#function with Argument\n",
        "def sum(a,b):\n",
        "  c=a+b\n",
        "  print(c)\n",
        "sum(10,20)"
      ],
      "metadata": {
        "colab": {
          "base_uri": "https://localhost:8080/"
        },
        "id": "SO8LZijpVh_6",
        "outputId": "cd6c0e8f-955c-43b4-8aca-a2390d709f56"
      },
      "execution_count": null,
      "outputs": [
        {
          "output_type": "stream",
          "name": "stdout",
          "text": [
            "30\n"
          ]
        }
      ]
    },
    {
      "cell_type": "code",
      "source": [
        "#function with return statement\n",
        "def sum(a,b):\n",
        "  c=a+b\n",
        "  return c\n",
        "print(sum(10,20)+30)"
      ],
      "metadata": {
        "colab": {
          "base_uri": "https://localhost:8080/"
        },
        "id": "6fwLMdtCV01K",
        "outputId": "ab25bbc8-8512-49bf-874a-3f3236e4bceb"
      },
      "execution_count": null,
      "outputs": [
        {
          "output_type": "stream",
          "name": "stdout",
          "text": [
            "60\n"
          ]
        }
      ]
    },
    {
      "cell_type": "code",
      "source": [
        "#function with Argument\n",
        "def sum(a,b):\n",
        "  c=a+b\n",
        "  #print(c)\n",
        "print(sum(10,20))"
      ],
      "metadata": {
        "colab": {
          "base_uri": "https://localhost:8080/"
        },
        "id": "YysdAnLnW0Yh",
        "outputId": "1be6d352-68f5-44af-ba26-4c4c5fb9aec9"
      },
      "execution_count": null,
      "outputs": [
        {
          "output_type": "stream",
          "name": "stdout",
          "text": [
            "None\n"
          ]
        }
      ]
    },
    {
      "cell_type": "markdown",
      "source": [
        "**DATA COLLECTION**  :-\n",
        "**LIST /  TUPLE/ SET/ DICTIONARY **\n",
        "**IT CONTAIN MULTIPLE DATA TYPES**"
      ],
      "metadata": {
        "id": "Mn-q3eJgXNyf"
      }
    },
    {
      "cell_type": "code",
      "source": [
        "l=[0,20,30,\"HELLO WORLD\"]\n",
        "print(type(l))\n",
        "print(l)\n",
        "c=[]\n",
        "c=list()\n",
        "c.append(\"Apple\")\n",
        "print(c)\n",
        "c.extend([\"Banana\",\"mango\"])\n",
        "print(c)\n",
        "c.insert(1,\"Orange\")\n",
        "print(c)\n",
        "\n",
        "print(c[0:2])\n",
        "#c.remove(\"Banana\")\n",
        "#c.pop(1)\n",
        "#del c[3]\n",
        "\n",
        "#Len,index,min,max,sum,count\n",
        "count =len(c)\n",
        "print(count)\n",
        "\n"
      ],
      "metadata": {
        "colab": {
          "base_uri": "https://localhost:8080/"
        },
        "id": "6e7Cn8l-XZVO",
        "outputId": "7d32cf23-ef34-43a5-f9bc-3901b793cfa7"
      },
      "execution_count": null,
      "outputs": [
        {
          "output_type": "stream",
          "name": "stdout",
          "text": [
            "<class 'list'>\n",
            "[0, 20, 30, 'HELLO WORLD']\n",
            "['Apple']\n",
            "['Apple', 'Banana', 'mango']\n",
            "['Apple', 'Orange', 'Banana', 'mango']\n",
            "['Apple', 'Orange']\n",
            "4\n"
          ]
        }
      ]
    },
    {
      "cell_type": "markdown",
      "source": [
        "**Number is prime or composite**\n"
      ],
      "metadata": {
        "id": "BMMm0s3egvMD"
      }
    },
    {
      "cell_type": "code",
      "source": [
        "n=int(input(\"Enter the number:\"))\n",
        "is_prime = False\n",
        "for i in range(2,n):\n",
        "  if(i % n==0):\n",
        "    is_prime = False\n",
        "    break\n",
        "  else:\n",
        "      is_prime=True\n",
        "if is_prime:\n",
        "   print(\"The given number is Prime\")\n",
        "else:\n",
        "   print(\"The given number is Composite\")\n",
        "\n",
        "\n"
      ],
      "metadata": {
        "colab": {
          "base_uri": "https://localhost:8080/"
        },
        "id": "KwEMvLvCg0vb",
        "outputId": "6d812263-c4c7-4de6-8252-c9183943965a"
      },
      "execution_count": null,
      "outputs": [
        {
          "output_type": "stream",
          "name": "stdout",
          "text": [
            "Enter the number:5\n",
            "The given number is Prime\n"
          ]
        }
      ]
    },
    {
      "cell_type": "markdown",
      "source": [
        "**COMPREHENSION**"
      ],
      "metadata": {
        "id": "4Daw9ZbHrwdm"
      }
    },
    {
      "cell_type": "code",
      "source": [
        "#EXPRESSION FOR ITEM IN ITERABLE\n",
        "l = [x**2 for x in range(1, 100)]\n",
        "print(l)\n",
        "l = [x for x in range(0, 100) if x % 2 == 0]\n",
        "print(l)"
      ],
      "metadata": {
        "colab": {
          "base_uri": "https://localhost:8080/"
        },
        "id": "T7a0jD4hrzil",
        "outputId": "f3c2161a-ecf1-4afe-9675-d30c93ffd583"
      },
      "execution_count": null,
      "outputs": [
        {
          "output_type": "stream",
          "name": "stdout",
          "text": [
            "[1, 4, 9, 16, 25, 36, 49, 64, 81, 100, 121, 144, 169, 196, 225, 256, 289, 324, 361, 400, 441, 484, 529, 576, 625, 676, 729, 784, 841, 900, 961, 1024, 1089, 1156, 1225, 1296, 1369, 1444, 1521, 1600, 1681, 1764, 1849, 1936, 2025, 2116, 2209, 2304, 2401, 2500, 2601, 2704, 2809, 2916, 3025, 3136, 3249, 3364, 3481, 3600, 3721, 3844, 3969, 4096, 4225, 4356, 4489, 4624, 4761, 4900, 5041, 5184, 5329, 5476, 5625, 5776, 5929, 6084, 6241, 6400, 6561, 6724, 6889, 7056, 7225, 7396, 7569, 7744, 7921, 8100, 8281, 8464, 8649, 8836, 9025, 9216, 9409, 9604, 9801]\n",
            "[0, 2, 4, 6, 8, 10, 12, 14, 16, 18, 20, 22, 24, 26, 28, 30, 32, 34, 36, 38, 40, 42, 44, 46, 48, 50, 52, 54, 56, 58, 60, 62, 64, 66, 68, 70, 72, 74, 76, 78, 80, 82, 84, 86, 88, 90, 92, 94, 96, 98]\n"
          ]
        }
      ]
    },
    {
      "cell_type": "markdown",
      "source": [
        "**even prime number**"
      ],
      "metadata": {
        "id": "S9vi34PstBoF"
      }
    },
    {
      "cell_type": "code",
      "source": [
        "for num in range(2,100):\n",
        "  is_prime = False\n",
        "  for i in range(2,num):\n",
        "    if(num % i==0):\n",
        "      is_prime = False\n",
        "      break\n",
        "    else:\n",
        "      is_prime=True\n",
        "  if is_prime:\n",
        "    print(num,\" given number is Prime\")\n",
        "  else:\n",
        "    print(num,\" given number is Composite\")"
      ],
      "metadata": {
        "colab": {
          "base_uri": "https://localhost:8080/"
        },
        "id": "-i0HlU-PtIWh",
        "outputId": "4a38698b-d47f-4d74-9a11-136dd3528c7a"
      },
      "execution_count": null,
      "outputs": [
        {
          "output_type": "stream",
          "name": "stdout",
          "text": [
            "2  given number is Composite\n",
            "3  given number is Prime\n",
            "4  given number is Composite\n",
            "5  given number is Prime\n",
            "6  given number is Composite\n",
            "7  given number is Prime\n",
            "8  given number is Composite\n",
            "9  given number is Composite\n",
            "10  given number is Composite\n",
            "11  given number is Prime\n",
            "12  given number is Composite\n",
            "13  given number is Prime\n",
            "14  given number is Composite\n",
            "15  given number is Composite\n",
            "16  given number is Composite\n",
            "17  given number is Prime\n",
            "18  given number is Composite\n",
            "19  given number is Prime\n",
            "20  given number is Composite\n",
            "21  given number is Composite\n",
            "22  given number is Composite\n",
            "23  given number is Prime\n",
            "24  given number is Composite\n",
            "25  given number is Composite\n",
            "26  given number is Composite\n",
            "27  given number is Composite\n",
            "28  given number is Composite\n",
            "29  given number is Prime\n",
            "30  given number is Composite\n",
            "31  given number is Prime\n",
            "32  given number is Composite\n",
            "33  given number is Composite\n",
            "34  given number is Composite\n",
            "35  given number is Composite\n",
            "36  given number is Composite\n",
            "37  given number is Prime\n",
            "38  given number is Composite\n",
            "39  given number is Composite\n",
            "40  given number is Composite\n",
            "41  given number is Prime\n",
            "42  given number is Composite\n",
            "43  given number is Prime\n",
            "44  given number is Composite\n",
            "45  given number is Composite\n",
            "46  given number is Composite\n",
            "47  given number is Prime\n",
            "48  given number is Composite\n",
            "49  given number is Composite\n",
            "50  given number is Composite\n",
            "51  given number is Composite\n",
            "52  given number is Composite\n",
            "53  given number is Prime\n",
            "54  given number is Composite\n",
            "55  given number is Composite\n",
            "56  given number is Composite\n",
            "57  given number is Composite\n",
            "58  given number is Composite\n",
            "59  given number is Prime\n",
            "60  given number is Composite\n",
            "61  given number is Prime\n",
            "62  given number is Composite\n",
            "63  given number is Composite\n",
            "64  given number is Composite\n",
            "65  given number is Composite\n",
            "66  given number is Composite\n",
            "67  given number is Prime\n",
            "68  given number is Composite\n",
            "69  given number is Composite\n",
            "70  given number is Composite\n",
            "71  given number is Prime\n",
            "72  given number is Composite\n",
            "73  given number is Prime\n",
            "74  given number is Composite\n",
            "75  given number is Composite\n",
            "76  given number is Composite\n",
            "77  given number is Composite\n",
            "78  given number is Composite\n",
            "79  given number is Prime\n",
            "80  given number is Composite\n",
            "81  given number is Composite\n",
            "82  given number is Composite\n",
            "83  given number is Prime\n",
            "84  given number is Composite\n",
            "85  given number is Composite\n",
            "86  given number is Composite\n",
            "87  given number is Composite\n",
            "88  given number is Composite\n",
            "89  given number is Prime\n",
            "90  given number is Composite\n",
            "91  given number is Composite\n",
            "92  given number is Composite\n",
            "93  given number is Composite\n",
            "94  given number is Composite\n",
            "95  given number is Composite\n",
            "96  given number is Composite\n",
            "97  given number is Prime\n",
            "98  given number is Composite\n",
            "99  given number is Composite\n"
          ]
        }
      ]
    },
    {
      "cell_type": "code",
      "source": [
        "l=[1,2,3,4,5,6,7,8,9]\n",
        "#sequence of character\n",
        "for i in l:\n",
        "  print(\"Character\",i)\n",
        "#sequence of numbers\n",
        "for i in range(1,len(l)):\n",
        "  print(\"Index\",l[i])"
      ],
      "metadata": {
        "colab": {
          "base_uri": "https://localhost:8080/"
        },
        "id": "wNiMxUjJvhFz",
        "outputId": "7d02b577-4fc9-4702-cc55-9d8ebcbdb96b"
      },
      "execution_count": null,
      "outputs": [
        {
          "output_type": "stream",
          "name": "stdout",
          "text": [
            "Character 1\n",
            "Character 2\n",
            "Character 3\n",
            "Character 4\n",
            "Character 5\n",
            "Character 6\n",
            "Character 7\n",
            "Character 8\n",
            "Character 9\n",
            "Index 2\n",
            "Index 3\n",
            "Index 4\n",
            "Index 5\n",
            "Index 6\n",
            "Index 7\n",
            "Index 8\n",
            "Index 9\n"
          ]
        }
      ]
    },
    {
      "cell_type": "markdown",
      "source": [
        "**print 1 to 10 natural number**"
      ],
      "metadata": {
        "id": "lgG9Gf4xcHXX"
      }
    },
    {
      "cell_type": "code",
      "source": [
        "i =1\n",
        "while i<=10:\n",
        "  print(i,\" \")\n",
        "  i = i+1"
      ],
      "metadata": {
        "colab": {
          "base_uri": "https://localhost:8080/"
        },
        "id": "9qcN9-npcMUf",
        "outputId": "4685662e-3aba-45c9-c115-565efa665adc"
      },
      "execution_count": null,
      "outputs": [
        {
          "output_type": "stream",
          "name": "stdout",
          "text": [
            "1  \n",
            "2  \n",
            "3  \n",
            "4  \n",
            "5  \n",
            "6  \n",
            "7  \n",
            "8  \n",
            "9  \n",
            "10  \n"
          ]
        }
      ]
    },
    {
      "cell_type": "markdown",
      "source": [
        "**Tuple**"
      ],
      "metadata": {
        "id": "qfX2rnync6cF"
      }
    },
    {
      "cell_type": "code",
      "source": [
        "t1 = (5,4,3,2,1)\n",
        "sum=0\n",
        "for k in t1:\n",
        "  print(k)\n",
        "  sum = sum+k\n",
        "print(\"The sum of the tuple elements is\",sum)"
      ],
      "metadata": {
        "colab": {
          "base_uri": "https://localhost:8080/"
        },
        "id": "UOH1OUzqfJat",
        "outputId": "f68c5d1c-8947-4605-8749-b43d46093a5e"
      },
      "execution_count": null,
      "outputs": [
        {
          "output_type": "stream",
          "name": "stdout",
          "text": [
            "5\n",
            "4\n",
            "3\n",
            "2\n",
            "1\n",
            "The sum of the tuple elements is 15\n"
          ]
        }
      ]
    },
    {
      "cell_type": "markdown",
      "source": [
        "**LIST**"
      ],
      "metadata": {
        "id": "o9MyK3cRf998"
      }
    },
    {
      "cell_type": "code",
      "source": [
        "l1=[5,4,3,2,1]\n",
        "\n",
        "print(l1)\n",
        "#For loop\n",
        "for i in range(len(l1)):\n",
        "  print(l1[i],end=\" \")\n",
        "  #FOR EACH LOOP\n",
        "l1.append(10)\n",
        "l1.append(20)\n",
        "l1.remove(5)\n",
        "del l1[1]\n",
        "print()\n",
        "for k in l1:\n",
        "  print(k)"
      ],
      "metadata": {
        "colab": {
          "base_uri": "https://localhost:8080/"
        },
        "id": "euOCjWI0gBJQ",
        "outputId": "2bf21efb-96db-41eb-a85d-09f4e4254c2d"
      },
      "execution_count": null,
      "outputs": [
        {
          "output_type": "stream",
          "name": "stdout",
          "text": [
            "[5, 4, 3, 2, 1]\n",
            "5 4 3 2 1 \n",
            "4\n",
            "2\n",
            "1\n",
            "10\n",
            "20\n"
          ]
        }
      ]
    },
    {
      "cell_type": "code",
      "source": [
        "n = int(input(\"Enter the number of stars\"))\n",
        "for i in range(n):\n",
        "  print(i* \" **\")\n"
      ],
      "metadata": {
        "colab": {
          "base_uri": "https://localhost:8080/"
        },
        "id": "uJ16p9E5jKjK",
        "outputId": "81b2baa5-57ea-49bd-d296-5904f9fa44ba"
      },
      "execution_count": null,
      "outputs": [
        {
          "output_type": "stream",
          "name": "stdout",
          "text": [
            "Enter the number of stars4\n",
            "\n",
            " **\n",
            " ** **\n",
            " ** ** **\n"
          ]
        }
      ]
    },
    {
      "cell_type": "markdown",
      "source": [
        " **SET**"
      ],
      "metadata": {
        "id": "jHcJNgOEi5ZC"
      }
    },
    {
      "cell_type": "code",
      "source": [
        "s1={5,4,3,2,6,78,8,9}\n",
        "print(s1)\n",
        "s1.add(55)\n",
        "s1.remove(5)\n",
        "print(s1)\n",
        "for k in s1:\n",
        "  print(k)\n",
        "\n"
      ],
      "metadata": {
        "colab": {
          "base_uri": "https://localhost:8080/"
        },
        "id": "tfeptwt5i88h",
        "outputId": "dfef7b21-adb0-45a4-c3f6-95ae539ff3b9"
      },
      "execution_count": null,
      "outputs": [
        {
          "output_type": "stream",
          "name": "stdout",
          "text": [
            "{2, 3, 4, 5, 6, 8, 9, 78}\n",
            "{2, 3, 4, 6, 8, 9, 78, 55}\n",
            "2\n",
            "3\n",
            "4\n",
            "6\n",
            "8\n",
            "9\n",
            "78\n",
            "55\n"
          ]
        }
      ]
    },
    {
      "cell_type": "markdown",
      "source": [
        "**DICTIONARY**"
      ],
      "metadata": {
        "id": "Qt3HaGW5lPLJ"
      }
    },
    {
      "cell_type": "code",
      "source": [
        "d1={}\n",
        "d2={1:\"ram\",2:\"mahesh\",3:\"Prabhas\",4:\"Arjun\",5:\"Divya\"}\n",
        "print(d2[5])\n",
        "print(d2)\n",
        "d2[6]= \"Shubham\"\n",
        "d2[4]=\"Abhay\"\n",
        "del d2[1]\n",
        "for k in d2.keys():\n",
        "  print(k,\"--->\",d2[k])"
      ],
      "metadata": {
        "colab": {
          "base_uri": "https://localhost:8080/"
        },
        "id": "2-aJzuiklRpx",
        "outputId": "dc4d958e-a384-41a1-afb1-07fc082d7ca3"
      },
      "execution_count": null,
      "outputs": [
        {
          "output_type": "stream",
          "name": "stdout",
          "text": [
            "Divya\n",
            "{1: 'ram', 2: 'mahesh', 3: 'Prabhas', 4: 'Arjun', 5: 'Divya'}\n",
            "2 ---> mahesh\n",
            "3 ---> Prabhas\n",
            "4 ---> Abhay\n",
            "5 ---> Divya\n",
            "6 ---> Shubham\n"
          ]
        }
      ]
    },
    {
      "cell_type": "markdown",
      "source": [
        "**square pattern**"
      ],
      "metadata": {
        "id": "w3X1NZ9SyvSt"
      }
    },
    {
      "cell_type": "code",
      "source": [
        "n = int(input(\"Enter the number of stars\"))\n",
        "for i in range(n):\n",
        "  for i in range(n):\n",
        "    print(\"[ ]\",end=\" \")\n",
        "print()"
      ],
      "metadata": {
        "colab": {
          "base_uri": "https://localhost:8080/"
        },
        "id": "dX325TiGzpx-",
        "outputId": "6ebb81f9-a4ed-44da-a4cc-96c1f6a41fd5"
      },
      "execution_count": null,
      "outputs": [
        {
          "output_type": "stream",
          "name": "stdout",
          "text": [
            "Enter the number of stars4\n",
            "[ ] [ ] [ ] [ ] [ ] [ ] [ ] [ ] [ ] [ ] [ ] [ ] [ ] [ ] [ ] [ ] \n"
          ]
        }
      ]
    },
    {
      "cell_type": "markdown",
      "source": [],
      "metadata": {
        "id": "xBJqXa0Oh_10"
      }
    }
  ]
}