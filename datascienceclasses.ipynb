{
  "nbformat": 4,
  "nbformat_minor": 0,
  "metadata": {
    "colab": {
      "provenance": [],
      "authorship_tag": "ABX9TyMu6P4SnTVEQeHJSz6/JQSz",
      "include_colab_link": true
    },
    "kernelspec": {
      "name": "python3",
      "display_name": "Python 3"
    },
    "language_info": {
      "name": "python"
    }
  },
  "cells": [
    {
      "cell_type": "markdown",
      "metadata": {
        "id": "view-in-github",
        "colab_type": "text"
      },
      "source": [
        "<a href=\"https://colab.research.google.com/github/Shubham81155/data-science3sem/blob/main/datascienceclasses.ipynb\" target=\"_parent\"><img src=\"https://colab.research.google.com/assets/colab-badge.svg\" alt=\"Open In Colab\"/></a>"
      ]
    },
    {
      "cell_type": "code",
      "execution_count": null,
      "metadata": {
        "colab": {
          "base_uri": "https://localhost:8080/"
        },
        "id": "NX-Qgw3IMkhI",
        "outputId": "358b2d98-5754-4a70-8e1e-91df0a103a7b"
      },
      "outputs": [
        {
          "output_type": "stream",
          "name": "stdout",
          "text": [
            "HELLO WORLD\n"
          ]
        }
      ],
      "source": [
        "print(\"HELLO WORLD\")"
      ]
    },
    {
      "cell_type": "code",
      "source": [
        "a=int(input())\n",
        "b=int(input())\n",
        "print(\"The product of a*b is\",a*b)"
      ],
      "metadata": {
        "id": "omhxm7c9NIa2",
        "colab": {
          "base_uri": "https://localhost:8080/"
        },
        "outputId": "6c245f59-66df-4bce-d8ad-e466742e6e93"
      },
      "execution_count": null,
      "outputs": [
        {
          "output_type": "stream",
          "name": "stdout",
          "text": [
            "3\n",
            "3\n",
            "The product of a*b is 9\n"
          ]
        }
      ]
    },
    {
      "cell_type": "code",
      "source": [],
      "metadata": {
        "id": "N6tTwlo0PyI8"
      },
      "execution_count": null,
      "outputs": []
    },
    {
      "cell_type": "code",
      "source": [
        "a=int(input(\"enter the numbeer\"))\n",
        "if(a<0):\n",
        "  a=-a\n",
        "print(\"the abs value of a given number is\",a)\n"
      ],
      "metadata": {
        "id": "iKkaO75BQeit",
        "colab": {
          "base_uri": "https://localhost:8080/"
        },
        "outputId": "56d17191-c5eb-4b74-da55-fe73ff3295b5"
      },
      "execution_count": 2,
      "outputs": [
        {
          "output_type": "stream",
          "name": "stdout",
          "text": [
            "enter the numbeer-9\n",
            "the abs value of a given number is 9\n"
          ]
        }
      ]
    }
  ]
}