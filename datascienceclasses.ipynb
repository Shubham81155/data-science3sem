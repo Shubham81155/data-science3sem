{
  "nbformat": 4,
  "nbformat_minor": 0,
  "metadata": {
    "colab": {
      "provenance": [],
      "authorship_tag": "ABX9TyPufiWU0crWCkfjfhh/qfBE",
      "include_colab_link": true
    },
    "kernelspec": {
      "name": "python3",
      "display_name": "Python 3"
    },
    "language_info": {
      "name": "python"
    }
  },
  "cells": [
    {
      "cell_type": "markdown",
      "metadata": {
        "id": "view-in-github",
        "colab_type": "text"
      },
      "source": [
        "<a href=\"https://colab.research.google.com/github/Shubham81155/data-science3sem/blob/main/datascienceclasses.ipynb\" target=\"_parent\"><img src=\"https://colab.research.google.com/assets/colab-badge.svg\" alt=\"Open In Colab\"/></a>"
      ]
    },
    {
      "cell_type": "code",
      "execution_count": null,
      "metadata": {
        "colab": {
          "base_uri": "https://localhost:8080/"
        },
        "id": "NX-Qgw3IMkhI",
        "outputId": "358b2d98-5754-4a70-8e1e-91df0a103a7b"
      },
      "outputs": [
        {
          "output_type": "stream",
          "name": "stdout",
          "text": [
            "HELLO WORLD\n"
          ]
        }
      ],
      "source": [
        "print(\"HELLO WORLD\")"
      ]
    },
    {
      "cell_type": "code",
      "source": [
        "a=int(input())\n",
        "b=int(input())\n",
        "print(\"The product of a*b is\",a*b)"
      ],
      "metadata": {
        "id": "omhxm7c9NIa2",
        "colab": {
          "base_uri": "https://localhost:8080/"
        },
        "outputId": "6c245f59-66df-4bce-d8ad-e466742e6e93"
      },
      "execution_count": null,
      "outputs": [
        {
          "output_type": "stream",
          "name": "stdout",
          "text": [
            "3\n",
            "3\n",
            "The product of a*b is 9\n"
          ]
        }
      ]
    },
    {
      "cell_type": "code",
      "source": [
        "a=int(input(\"enter The numbeer\"))\n",
        "if(a<0):\n",
        "  a=-a\n",
        "print(\"The abs value of a given number is\",a)\n"
      ],
      "metadata": {
        "id": "iKkaO75BQeit",
        "colab": {
          "base_uri": "https://localhost:8080/"
        },
        "outputId": "56d17191-c5eb-4b74-da55-fe73ff3295b5"
      },
      "execution_count": null,
      "outputs": [
        {
          "output_type": "stream",
          "name": "stdout",
          "text": [
            "enter the numbeer-9\n",
            "the abs value of a given number is 9\n"
          ]
        }
      ]
    },
    {
      "cell_type": "code",
      "source": [
        "a=int(input(\"Enter The number\"))\n",
        "if a%2==0:\n",
        "  print(\"The number is even\")\n",
        "if a%2!=0:\n",
        "  print(\"The number is odd\")"
      ],
      "metadata": {
        "colab": {
          "base_uri": "https://localhost:8080/"
        },
        "id": "y6olCH0KSf4D",
        "outputId": "68ea0b6a-86fe-40f4-f39e-06160af69c95"
      },
      "execution_count": null,
      "outputs": [
        {
          "output_type": "stream",
          "name": "stdout",
          "text": [
            "Enter the number3\n",
            "the number is odd\n"
          ]
        }
      ]
    },
    {
      "cell_type": "markdown",
      "source": [
        "#smallest number"
      ],
      "metadata": {
        "id": "3gv1oLvAUXuJ"
      }
    },
    {
      "cell_type": "code",
      "source": [
        "p=int(input())\n",
        "q=int(input())\n",
        "if(p<q):\n",
        "  print(p,\"is smallest number\")\n",
        "else:\n",
        "  print(q,\"is smallest number\")"
      ],
      "metadata": {
        "colab": {
          "base_uri": "https://localhost:8080/"
        },
        "id": "OiBNZK1vUfBC",
        "outputId": "072397df-615c-4222-8634-6b1d832bb8f9"
      },
      "execution_count": null,
      "outputs": [
        {
          "output_type": "stream",
          "name": "stdout",
          "text": [
            "4\n",
            "5\n",
            "4 is smallest number\n"
          ]
        }
      ]
    },
    {
      "cell_type": "markdown",
      "source": [
        "**wap to accept three subject marks and find The studentis pass or fail?**"
      ],
      "metadata": {
        "id": "cWhTZh3LVmXJ"
      }
    },
    {
      "cell_type": "code",
      "source": [
        "s1=int(input(\"Enter The first subject\"))\n",
        "s2=int(input(\"Enter The Second subject\"))\n",
        "s3=int(input(\"Enter The Third subject\"))\n",
        "if s1>=35 and s2>=35 and s3>=35:\n",
        "  print(\"The student is pass \")\n",
        "else:\n",
        "  print(\"The student is fail\")"
      ],
      "metadata": {
        "colab": {
          "base_uri": "https://localhost:8080/"
        },
        "id": "Z27nlhhJVwrW",
        "outputId": "1c4ca802-0475-4715-836e-0efb325b7479"
      },
      "execution_count": null,
      "outputs": [
        {
          "output_type": "stream",
          "name": "stdout",
          "text": [
            "Enter the first subject45\n",
            "Enter the Second subject56\n",
            "Enter the Third subject67\n",
            "The student is pass \n"
          ]
        }
      ]
    },
    {
      "cell_type": "markdown",
      "source": [
        "**wap to find The biggest numbeer among The given  two numbers?**\n"
      ],
      "metadata": {
        "id": "DUHUa0AfXhZw"
      }
    },
    {
      "cell_type": "code",
      "source": [
        "a=int(input(\"Enter The first \"))\n",
        "b=int(input(\"Enter The Second \"))\n",
        "c=int(input(\"Enter The Third \"))\n",
        "if a>b:\n",
        "  if a>c:\n",
        "    print(a,\"is greater\")\n",
        "  else:\n",
        "    print(c,\"is greater\")\n",
        "else:\n",
        "  if b>c:\n",
        "    print(b,\"is greater\")\n",
        "  else:\n",
        "    print(c,\"is greater\")"
      ],
      "metadata": {
        "colab": {
          "base_uri": "https://localhost:8080/"
        },
        "id": "4DCsiPf9Y0tP",
        "outputId": "55edb250-14ae-457e-a5fe-28a655acf526"
      },
      "execution_count": null,
      "outputs": [
        {
          "output_type": "stream",
          "name": "stdout",
          "text": [
            "Enter the first 4\n",
            "Enter the Second 4\n",
            "Enter the Third 4\n",
            "4 is greater\n"
          ]
        }
      ]
    },
    {
      "cell_type": "markdown",
      "source": [
        "**wap to find The given number is in The range of 1 to 10 or 11 to 20 or 21 to 30 or 31 to 40 or greater than 40.**\n"
      ],
      "metadata": {
        "id": "01T5NGhOgZXk"
      }
    },
    {
      "cell_type": "code",
      "source": [
        "n=int(input(\"Enter number\"))\n",
        "if n>=1 and n<=10:\n",
        "  print(\"The given number is in The range of 1 to 10\")\n",
        "elif n>=11 and n<=20:\n",
        "  print(\"The given number is in The range of 11 to 20\")\n",
        "elif n>=21 and n<=30:\n",
        "  print(\"The given number is in The range of 21 to 30\")\n",
        "elif n>=31 and n<=40:\n",
        "  print(\"The given number is in The range of 31 to 40\")\n",
        "else:\n",
        "  print(\"The given  number is greater than 40\")"
      ],
      "metadata": {
        "colab": {
          "base_uri": "https://localhost:8080/"
        },
        "id": "MoteoHKNh2Qa",
        "outputId": "5f0b860e-8d98-4206-cf43-544a28776f5f"
      },
      "execution_count": null,
      "outputs": [
        {
          "output_type": "stream",
          "name": "stdout",
          "text": [
            "Enter number34\n",
            "The given number is in The range of 31 to 40\n"
          ]
        }
      ]
    },
    {
      "cell_type": "markdown",
      "source": [
        "**wap to find the given person is eligible for vote or not?**\n"
      ],
      "metadata": {
        "id": "qSxHmk1nkidK"
      }
    },
    {
      "cell_type": "code",
      "source": [
        "age=int(input(\"Enter the age:\"))\n",
        "if age>=18:\n",
        "  print(\"The pertson is eligible for vote\")\n",
        "else:\n",
        "   print(\"The pertson is not eligible for vote\")"
      ],
      "metadata": {
        "colab": {
          "base_uri": "https://localhost:8080/"
        },
        "id": "X-bUClC_kvbo",
        "outputId": "62d55346-5fd0-486f-cda8-60910e63b640"
      },
      "execution_count": null,
      "outputs": [
        {
          "output_type": "stream",
          "name": "stdout",
          "text": [
            "Enter the age:12\n",
            "The pertson is not eligible for vote\n"
          ]
        }
      ]
    },
    {
      "cell_type": "markdown",
      "source": [
        "**wap to accept two inputs  one is person name and second is gender.\n",
        "If the gender is male print welcome to mr. name or female print welcome to ms name**"
      ],
      "metadata": {
        "id": "vmoYPmZelx-4"
      }
    },
    {
      "cell_type": "code",
      "source": [
        "name=input(\"Enter the name \")\n",
        "gender=input(\"Enter the gender \")\n",
        "if gender==\"male\":\n",
        "  print(\"Welcome mr.\",name)\n",
        "else:\n",
        "  print(\"Welcome ms.\",name)"
      ],
      "metadata": {
        "colab": {
          "base_uri": "https://localhost:8080/"
        },
        "id": "ihVpzvNWmWv4",
        "outputId": "0debe208-dd95-4d86-991e-4a9cbb722075"
      },
      "execution_count": null,
      "outputs": [
        {
          "output_type": "stream",
          "name": "stdout",
          "text": [
            "Enter the name shubham\n",
            "Enter the gender male\n",
            "Welcome mr. shubham\n"
          ]
        }
      ]
    },
    {
      "cell_type": "markdown",
      "source": [
        "**WHILE Loop**"
      ],
      "metadata": {
        "id": "V0H9vd0sRdk7"
      }
    },
    {
      "cell_type": "code",
      "source": [
        "i=0\n",
        "while (i<11):\n",
        "  print(\"HELLO WORLD\")\n",
        "  i+=1\n"
      ],
      "metadata": {
        "colab": {
          "base_uri": "https://localhost:8080/"
        },
        "id": "hgfksobKSOrr",
        "outputId": "fdc7dd60-183f-44ca-c27a-73da76eccc69"
      },
      "execution_count": 2,
      "outputs": [
        {
          "output_type": "stream",
          "name": "stdout",
          "text": [
            "HELLO WORLD\n",
            "HELLO WORLD\n",
            "HELLO WORLD\n",
            "HELLO WORLD\n",
            "HELLO WORLD\n",
            "HELLO WORLD\n",
            "HELLO WORLD\n",
            "HELLO WORLD\n",
            "HELLO WORLD\n",
            "HELLO WORLD\n",
            "HELLO WORLD\n"
          ]
        }
      ]
    },
    {
      "cell_type": "markdown",
      "source": [
        "**FOR Loop**"
      ],
      "metadata": {
        "id": "uW13FhXnS0Px"
      }
    },
    {
      "cell_type": "code",
      "source": [
        "for i in range(0,11,1):\n",
        "  print(\"HELLO WORLD\")"
      ],
      "metadata": {
        "colab": {
          "base_uri": "https://localhost:8080/"
        },
        "id": "PrRjUWIXTBWY",
        "outputId": "cab0f13c-a1e8-428e-ee6b-127a28764a3f"
      },
      "execution_count": 7,
      "outputs": [
        {
          "output_type": "stream",
          "name": "stdout",
          "text": [
            "HELLO WORLD\n",
            "HELLO WORLD\n",
            "HELLO WORLD\n",
            "HELLO WORLD\n",
            "HELLO WORLD\n",
            "HELLO WORLD\n",
            "HELLO WORLD\n",
            "HELLO WORLD\n",
            "HELLO WORLD\n",
            "HELLO WORLD\n",
            "HELLO WORLD\n"
          ]
        }
      ]
    },
    {
      "cell_type": "code",
      "source": [
        "#SEQUENCE OF CHARACTER\n",
        "for i in \"python\":\n",
        " print(i)"
      ],
      "metadata": {
        "colab": {
          "base_uri": "https://localhost:8080/"
        },
        "id": "IWyRuJnJULay",
        "outputId": "28d74923-930c-4859-ac9e-292398cb0c2e"
      },
      "execution_count": 8,
      "outputs": [
        {
          "output_type": "stream",
          "name": "stdout",
          "text": [
            "p\n",
            "y\n",
            "t\n",
            "h\n",
            "o\n",
            "n\n"
          ]
        }
      ]
    },
    {
      "cell_type": "markdown",
      "source": [
        "**Function**"
      ],
      "metadata": {
        "id": "ZJmpYEWGUwua"
      }
    },
    {
      "cell_type": "code",
      "source": [
        "#function without arguments\n",
        "def greet():\n",
        "  print(\"HELLO WORLD\")\n",
        "greet()"
      ],
      "metadata": {
        "colab": {
          "base_uri": "https://localhost:8080/"
        },
        "id": "xh4RBddOU1rf",
        "outputId": "03b0c883-4a11-413b-f87e-c6c735509f75"
      },
      "execution_count": 10,
      "outputs": [
        {
          "output_type": "stream",
          "name": "stdout",
          "text": [
            "HELLO WORLD\n"
          ]
        }
      ]
    },
    {
      "cell_type": "code",
      "source": [
        "#function with Argument\n",
        "def sum(a,b):\n",
        "  c=a+b\n",
        "  print(c)\n",
        "sum(10,20)"
      ],
      "metadata": {
        "colab": {
          "base_uri": "https://localhost:8080/"
        },
        "id": "SO8LZijpVh_6",
        "outputId": "cd6c0e8f-955c-43b4-8aca-a2390d709f56"
      },
      "execution_count": 11,
      "outputs": [
        {
          "output_type": "stream",
          "name": "stdout",
          "text": [
            "30\n"
          ]
        }
      ]
    },
    {
      "cell_type": "code",
      "source": [
        "#function with return statement\n",
        "def sum(a,b):\n",
        "  c=a+b\n",
        "  return c\n",
        "print(sum(10,20)+30)"
      ],
      "metadata": {
        "colab": {
          "base_uri": "https://localhost:8080/"
        },
        "id": "6fwLMdtCV01K",
        "outputId": "ab25bbc8-8512-49bf-874a-3f3236e4bceb"
      },
      "execution_count": 12,
      "outputs": [
        {
          "output_type": "stream",
          "name": "stdout",
          "text": [
            "60\n"
          ]
        }
      ]
    },
    {
      "cell_type": "code",
      "source": [
        "#function with Argument\n",
        "def sum(a,b):\n",
        "  c=a+b\n",
        "  #print(c)\n",
        "print(sum(10,20))"
      ],
      "metadata": {
        "colab": {
          "base_uri": "https://localhost:8080/"
        },
        "id": "YysdAnLnW0Yh",
        "outputId": "1be6d352-68f5-44af-ba26-4c4c5fb9aec9"
      },
      "execution_count": 13,
      "outputs": [
        {
          "output_type": "stream",
          "name": "stdout",
          "text": [
            "None\n"
          ]
        }
      ]
    },
    {
      "cell_type": "markdown",
      "source": [
        "**DATA COLLECTION**  :-\n",
        "**LIST /  TUPLE/ SET/ DICTIONARY **\n",
        "**IT CONTAIN MULTIPLE DATA TYPES**"
      ],
      "metadata": {
        "id": "Mn-q3eJgXNyf"
      }
    },
    {
      "cell_type": "code",
      "source": [
        "l=[0,20,30,\"HELLO WORLD\"]\n",
        "print(type(l))\n",
        "print(l)\n",
        "c=[]\n",
        "c=list()\n",
        "c.append(\"Apple\")\n",
        "print(c)\n",
        "c.extend([\"Banana\",\"mango\"])\n",
        "print(c)\n",
        "c.insert(1,\"Orange\")\n",
        "print(c)\n",
        "\n",
        "print(c[0:2])\n",
        "#c.remove(\"Banana\")\n",
        "#c.pop(1)\n",
        "#del c[3]\n",
        "\n",
        "#Len,index,min,max,sum,count\n",
        "count =len(c)\n",
        "print(count)\n",
        "\n"
      ],
      "metadata": {
        "colab": {
          "base_uri": "https://localhost:8080/"
        },
        "id": "6e7Cn8l-XZVO",
        "outputId": "7d32cf23-ef34-43a5-f9bc-3901b793cfa7"
      },
      "execution_count": 35,
      "outputs": [
        {
          "output_type": "stream",
          "name": "stdout",
          "text": [
            "<class 'list'>\n",
            "[0, 20, 30, 'HELLO WORLD']\n",
            "['Apple']\n",
            "['Apple', 'Banana', 'mango']\n",
            "['Apple', 'Orange', 'Banana', 'mango']\n",
            "['Apple', 'Orange']\n",
            "4\n"
          ]
        }
      ]
    }
  ]
}