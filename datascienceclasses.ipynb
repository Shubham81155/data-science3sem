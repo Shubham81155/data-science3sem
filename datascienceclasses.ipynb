{
  "nbformat": 4,
  "nbformat_minor": 0,
  "metadata": {
    "colab": {
      "provenance": [],
      "authorship_tag": "ABX9TyOKYrXFFlsdFvVkw0SI4EiS",
      "include_colab_link": true
    },
    "kernelspec": {
      "name": "python3",
      "display_name": "Python 3"
    },
    "language_info": {
      "name": "python"
    }
  },
  "cells": [
    {
      "cell_type": "markdown",
      "metadata": {
        "id": "view-in-github",
        "colab_type": "text"
      },
      "source": [
        "<a href=\"https://colab.research.google.com/github/Shubham81155/data-science3sem/blob/main/datascienceclasses.ipynb\" target=\"_parent\"><img src=\"https://colab.research.google.com/assets/colab-badge.svg\" alt=\"Open In Colab\"/></a>"
      ]
    },
    {
      "cell_type": "code",
      "execution_count": null,
      "metadata": {
        "colab": {
          "base_uri": "https://localhost:8080/"
        },
        "id": "NX-Qgw3IMkhI",
        "outputId": "358b2d98-5754-4a70-8e1e-91df0a103a7b"
      },
      "outputs": [
        {
          "output_type": "stream",
          "name": "stdout",
          "text": [
            "HELLO WORLD\n"
          ]
        }
      ],
      "source": [
        "print(\"HELLO WORLD\")"
      ]
    },
    {
      "cell_type": "code",
      "source": [
        "a=int(input())\n",
        "b=int(input())\n",
        "print(\"The product of a*b is\",a*b)"
      ],
      "metadata": {
        "id": "omhxm7c9NIa2",
        "colab": {
          "base_uri": "https://localhost:8080/"
        },
        "outputId": "6c245f59-66df-4bce-d8ad-e466742e6e93"
      },
      "execution_count": null,
      "outputs": [
        {
          "output_type": "stream",
          "name": "stdout",
          "text": [
            "3\n",
            "3\n",
            "The product of a*b is 9\n"
          ]
        }
      ]
    },
    {
      "cell_type": "code",
      "source": [],
      "metadata": {
        "id": "N6tTwlo0PyI8"
      },
      "execution_count": null,
      "outputs": []
    },
    {
      "cell_type": "code",
      "source": [
        "a=int(input(\"enter The numbeer\"))\n",
        "if(a<0):\n",
        "  a=-a\n",
        "print(\"The abs value of a given number is\",a)\n"
      ],
      "metadata": {
        "id": "iKkaO75BQeit",
        "colab": {
          "base_uri": "https://localhost:8080/"
        },
        "outputId": "56d17191-c5eb-4b74-da55-fe73ff3295b5"
      },
      "execution_count": 2,
      "outputs": [
        {
          "output_type": "stream",
          "name": "stdout",
          "text": [
            "enter the numbeer-9\n",
            "the abs value of a given number is 9\n"
          ]
        }
      ]
    },
    {
      "cell_type": "code",
      "source": [
        "a=int(input(\"Enter The number\"))\n",
        "if a%2==0:\n",
        "  print(\"The number is even\")\n",
        "if a%2!=0:\n",
        "  print(\"The number is odd\")"
      ],
      "metadata": {
        "colab": {
          "base_uri": "https://localhost:8080/"
        },
        "id": "y6olCH0KSf4D",
        "outputId": "68ea0b6a-86fe-40f4-f39e-06160af69c95"
      },
      "execution_count": 7,
      "outputs": [
        {
          "output_type": "stream",
          "name": "stdout",
          "text": [
            "Enter the number3\n",
            "the number is odd\n"
          ]
        }
      ]
    },
    {
      "cell_type": "markdown",
      "source": [
        "#smallest number"
      ],
      "metadata": {
        "id": "3gv1oLvAUXuJ"
      }
    },
    {
      "cell_type": "code",
      "source": [
        "p=int(input())\n",
        "q=int(input())\n",
        "if(p<q):\n",
        "  print(p,\"is smallest number\")\n",
        "else:\n",
        "  print(q,\"is smallest number\")"
      ],
      "metadata": {
        "colab": {
          "base_uri": "https://localhost:8080/"
        },
        "id": "OiBNZK1vUfBC",
        "outputId": "072397df-615c-4222-8634-6b1d832bb8f9"
      },
      "execution_count": 9,
      "outputs": [
        {
          "output_type": "stream",
          "name": "stdout",
          "text": [
            "4\n",
            "5\n",
            "4 is smallest number\n"
          ]
        }
      ]
    },
    {
      "cell_type": "markdown",
      "source": [
        "wap to accept three subject marks and find The studentis pass or fail?"
      ],
      "metadata": {
        "id": "cWhTZh3LVmXJ"
      }
    },
    {
      "cell_type": "code",
      "source": [
        "s1=int(input(\"Enter The first subject\"))\n",
        "s2=int(input(\"Enter The Second subject\"))\n",
        "s3=int(input(\"Enter The Third subject\"))\n",
        "if s1>=35 and s2>=35 and s3>=35:\n",
        "  print(\"The student is pass \")\n",
        "else:\n",
        "  print(\"The student is fail\")"
      ],
      "metadata": {
        "colab": {
          "base_uri": "https://localhost:8080/"
        },
        "id": "Z27nlhhJVwrW",
        "outputId": "1c4ca802-0475-4715-836e-0efb325b7479"
      },
      "execution_count": 10,
      "outputs": [
        {
          "output_type": "stream",
          "name": "stdout",
          "text": [
            "Enter the first subject45\n",
            "Enter the Second subject56\n",
            "Enter the Third subject67\n",
            "The student is pass \n"
          ]
        }
      ]
    },
    {
      "cell_type": "markdown",
      "source": [
        "wap to find The biggest numbeer among The given  two numbers?\n"
      ],
      "metadata": {
        "id": "DUHUa0AfXhZw"
      }
    },
    {
      "cell_type": "code",
      "source": [
        "a=int(input(\"Enter The first \"))\n",
        "b=int(input(\"Enter The Second \"))\n",
        "c=int(input(\"Enter The Third \"))\n",
        "if a>b:\n",
        "  if a>c:\n",
        "    print(a,\"is greater\")\n",
        "  else:\n",
        "    print(c,\"is greater\")\n",
        "else:\n",
        "  if b>c:\n",
        "    print(b,\"is greater\")\n",
        "  else:\n",
        "    print(c,\"is greater\")"
      ],
      "metadata": {
        "colab": {
          "base_uri": "https://localhost:8080/"
        },
        "id": "4DCsiPf9Y0tP",
        "outputId": "55edb250-14ae-457e-a5fe-28a655acf526"
      },
      "execution_count": 15,
      "outputs": [
        {
          "output_type": "stream",
          "name": "stdout",
          "text": [
            "Enter the first 4\n",
            "Enter the Second 4\n",
            "Enter the Third 4\n",
            "4 is greater\n"
          ]
        }
      ]
    },
    {
      "cell_type": "markdown",
      "source": [
        "wap to find The given number is in The range of 1 to 10 or 11 to 20 or 21 to 30 or 31 to 40 or greater than 40.\n"
      ],
      "metadata": {
        "id": "01T5NGhOgZXk"
      }
    },
    {
      "cell_type": "code",
      "source": [
        "n=int(input(\"Enter number\"))\n",
        "if n>=1 and n<=10:\n",
        "  print(\"The given number is in The range of 1 to 10\")\n",
        "elif n>=11 and n<=20:\n",
        "  print(\"The given number is in The range of 11 to 20\")\n",
        "elif n>=21 and n<=30:\n",
        "  print(\"The given number is in The range of 21 to 30\")\n",
        "elif n>=31 and n<=40:\n",
        "  print(\"The given number is in The range of 31 to 40\")\n",
        "else:\n",
        "  print(\"The given  number is greater than 40\")"
      ],
      "metadata": {
        "colab": {
          "base_uri": "https://localhost:8080/"
        },
        "id": "MoteoHKNh2Qa",
        "outputId": "5f0b860e-8d98-4206-cf43-544a28776f5f"
      },
      "execution_count": 16,
      "outputs": [
        {
          "output_type": "stream",
          "name": "stdout",
          "text": [
            "Enter number34\n",
            "The given number is in The range of 31 to 40\n"
          ]
        }
      ]
    }
  ]
}